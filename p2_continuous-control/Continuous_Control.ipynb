{
 "cells": [
  {
   "cell_type": "markdown",
   "metadata": {},
   "source": [
    "# Continuous Control\n",
    "\n",
    "---\n",
    "\n",
    "In this notebook, you will learn how to use the Unity ML-Agents environment for the second project of the [Deep Reinforcement Learning Nanodegree](https://www.udacity.com/course/deep-reinforcement-learning-nanodegree--nd893) program.\n",
    "\n",
    "### 1. Start the Environment\n",
    "\n",
    "We begin by importing the necessary packages.  If the code cell below returns an error, please revisit the project instructions to double-check that you have installed [Unity ML-Agents](https://github.com/Unity-Technologies/ml-agents/blob/master/docs/Installation.md) and [NumPy](http://www.numpy.org/)."
   ]
  },
  {
   "cell_type": "code",
   "execution_count": 1,
   "metadata": {},
   "outputs": [],
   "source": [
    "from unityagents import UnityEnvironment\n",
    "import numpy as np\n"
   ]
  },
  {
   "cell_type": "markdown",
   "metadata": {},
   "source": [
    "Next, we will start the environment!  **_Before running the code cell below_**, change the `file_name` parameter to match the location of the Unity environment that you downloaded.\n",
    "\n",
    "- **Mac**: `\"path/to/Reacher.app\"`\n",
    "- **Windows** (x86): `\"path/to/Reacher_Windows_x86/Reacher.exe\"`\n",
    "- **Windows** (x86_64): `\"path/to/Reacher_Windows_x86_64/Reacher.exe\"`\n",
    "- **Linux** (x86): `\"path/to/Reacher_Linux/Reacher.x86\"`\n",
    "- **Linux** (x86_64): `\"path/to/Reacher_Linux/Reacher.x86_64\"`\n",
    "- **Linux** (x86, headless): `\"path/to/Reacher_Linux_NoVis/Reacher.x86\"`\n",
    "- **Linux** (x86_64, headless): `\"path/to/Reacher_Linux_NoVis/Reacher.x86_64\"`\n",
    "\n",
    "For instance, if you are using a Mac, then you downloaded `Reacher.app`.  If this file is in the same folder as the notebook, then the line below should appear as follows:\n",
    "```\n",
    "env = UnityEnvironment(file_name=\"Reacher.app\")\n",
    "```"
   ]
  },
  {
   "cell_type": "code",
   "execution_count": 2,
   "metadata": {},
   "outputs": [
    {
     "name": "stderr",
     "output_type": "stream",
     "text": [
      "INFO:unityagents:\n",
      "'Academy' started successfully!\n",
      "Unity Academy name: Academy\n",
      "        Number of Brains: 1\n",
      "        Number of External Brains : 1\n",
      "        Lesson number : 0\n",
      "        Reset Parameters :\n",
      "\t\tgoal_speed -> 1.0\n",
      "\t\tgoal_size -> 5.0\n",
      "Unity brain name: ReacherBrain\n",
      "        Number of Visual Observations (per agent): 0\n",
      "        Vector Observation space type: continuous\n",
      "        Vector Observation space size (per agent): 33\n",
      "        Number of stacked Vector Observation: 1\n",
      "        Vector Action space type: continuous\n",
      "        Vector Action space size (per agent): 4\n",
      "        Vector Action descriptions: , , , \n"
     ]
    }
   ],
   "source": [
    "env = UnityEnvironment(file_name='Reacher.app')"
   ]
  },
  {
   "cell_type": "markdown",
   "metadata": {},
   "source": [
    "Environments contain **_brains_** which are responsible for deciding the actions of their associated agents. Here we check for the first brain available, and set it as the default brain we will be controlling from Python."
   ]
  },
  {
   "cell_type": "code",
   "execution_count": 3,
   "metadata": {},
   "outputs": [],
   "source": [
    "# get the default brain\n",
    "brain_name = env.brain_names[0]\n",
    "brain = env.brains[brain_name]"
   ]
  },
  {
   "cell_type": "markdown",
   "metadata": {},
   "source": [
    "### 2. Examine the State and Action Spaces\n",
    "\n",
    "In this environment, a double-jointed arm can move to target locations. A reward of `+0.1` is provided for each step that the agent's hand is in the goal location. Thus, the goal of your agent is to maintain its position at the target location for as many time steps as possible.\n",
    "\n",
    "The observation space consists of `33` variables corresponding to position, rotation, velocity, and angular velocities of the arm.  Each action is a vector with four numbers, corresponding to torque applicable to two joints.  Every entry in the action vector must be a number between `-1` and `1`.\n",
    "\n",
    "Run the code cell below to print some information about the environment."
   ]
  },
  {
   "cell_type": "code",
   "execution_count": 4,
   "metadata": {},
   "outputs": [
    {
     "name": "stdout",
     "output_type": "stream",
     "text": [
      "Number of agents: 20\n",
      "Size of each action: 4\n",
      "There are 20 agents. Each observes a state with length: 33\n",
      "The state for the first agent looks like: [ 0.00000000e+00 -4.00000000e+00  0.00000000e+00  1.00000000e+00\n",
      " -0.00000000e+00 -0.00000000e+00 -4.37113883e-08  0.00000000e+00\n",
      "  0.00000000e+00  0.00000000e+00  0.00000000e+00  0.00000000e+00\n",
      "  0.00000000e+00  0.00000000e+00 -1.00000000e+01  0.00000000e+00\n",
      "  1.00000000e+00 -0.00000000e+00 -0.00000000e+00 -4.37113883e-08\n",
      "  0.00000000e+00  0.00000000e+00  0.00000000e+00  0.00000000e+00\n",
      "  0.00000000e+00  0.00000000e+00  5.75471878e+00 -1.00000000e+00\n",
      "  5.55726624e+00  0.00000000e+00  1.00000000e+00  0.00000000e+00\n",
      " -1.68164849e-01]\n"
     ]
    }
   ],
   "source": [
    "# reset the environment\n",
    "env_info = env.reset(train_mode=True)[brain_name]\n",
    "\n",
    "# number of agents\n",
    "num_agents = len(env_info.agents)\n",
    "print('Number of agents:', num_agents)\n",
    "\n",
    "# size of each action\n",
    "action_size = brain.vector_action_space_size\n",
    "print('Size of each action:', action_size)\n",
    "\n",
    "# examine the state space \n",
    "states = env_info.vector_observations\n",
    "state_size = states.shape[1]\n",
    "print('There are {} agents. Each observes a state with length: {}'.format(states.shape[0], state_size))\n",
    "print('The state for the first agent looks like:', states[0])"
   ]
  },
  {
   "cell_type": "markdown",
   "metadata": {},
   "source": [
    "### 3. Take Random Actions in the Environment\n",
    "\n",
    "In the next code cell, you will learn how to use the Python API to control the agent and receive feedback from the environment.\n",
    "\n",
    "To run the code in the cell, set try_random_actions to True. Once this cell is executed, you will watch the agents' performance, as they select actiona at random at each time step. A window should pop up that allows you to observe the agents, as they move through the environment.\n",
    "\n",
    "Of course, as part of the project, you'll have to change the code so that the agent is able to use its experience to gradually choose better actions when interacting with the environment!"
   ]
  },
  {
   "cell_type": "code",
   "execution_count": 5,
   "metadata": {},
   "outputs": [
    {
     "name": "stdout",
     "output_type": "stream",
     "text": [
      "Total score (averaged over agents) this episode: 0.17749999603256583\n"
     ]
    }
   ],
   "source": [
    "try_random_actions = False\n",
    "\n",
    "env_info = env.reset(train_mode=False)[brain_name]     # reset the environment    \n",
    "states = env_info.vector_observations                  # get the current state (for each agent)\n",
    "scores = np.zeros(num_agents)                          # initialize the score (for each agent)\n",
    "while True:\n",
    "    actions = np.random.randn(num_agents, action_size) # select an action (for each agent)\n",
    "    actions = np.clip(actions, -1, 1)                  # all actions between -1 and 1\n",
    "    env_info = env.step(actions)[brain_name]           # send all actions to tne environment\n",
    "    next_states = env_info.vector_observations         # get next state (for each agent)\n",
    "    rewards = env_info.rewards                         # get reward (for each agent)\n",
    "    dones = env_info.local_done                        # see if episode finished\n",
    "    scores += env_info.rewards                         # update the score (for each agent)\n",
    "    states = next_states                               # roll over states to next time step\n",
    "    if np.any(dones):                                  # exit loop if episode finished\n",
    "        break\n",
    "print('Total score (averaged over agents) this episode: {}'.format(np.mean(scores)))"
   ]
  },
  {
   "cell_type": "markdown",
   "metadata": {},
   "source": [
    "When finished, you can close the environment as shown below. Note however that once the environment is closed, you need to restart the notebook to be able to continue running the remaining cells. Once you restart the notebook, change try_random_actions in the above cell to False to skip running that cell and the subsequent one that closes the environment."
   ]
  },
  {
   "cell_type": "code",
   "execution_count": 6,
   "metadata": {},
   "outputs": [],
   "source": [
    "if try_random_actions:\n",
    "    env.close()"
   ]
  },
  {
   "cell_type": "markdown",
   "metadata": {},
   "source": [
    "### 4. It's Your Turn!\n",
    "\n",
    "Now it's your turn to train your own agent to solve the environment!  When training the environment, set `train_mode=True`, so that the line for resetting the environment looks like the following:\n",
    "```python\n",
    "env_info = env.reset(train_mode=True)[brain_name]\n",
    "```"
   ]
  },
  {
   "cell_type": "markdown",
   "metadata": {},
   "source": [
    "### 5. Import the Necessary Packages"
   ]
  },
  {
   "cell_type": "code",
   "execution_count": 7,
   "metadata": {},
   "outputs": [],
   "source": [
    "import torch\n",
    "import random\n",
    "import time\n",
    "import pprint\n",
    "import numpy as np\n",
    "from collections import deque, namedtuple\n",
    "import matplotlib.pyplot as plt\n",
    "%matplotlib inline\n",
    "\n",
    "from ddpg_agent import Agent, override_config"
   ]
  },
  {
   "cell_type": "markdown",
   "metadata": {},
   "source": [
    "### 6. Instantiate the Environment and a DDPG Agent"
   ]
  },
  {
   "cell_type": "code",
   "execution_count": 8,
   "metadata": {},
   "outputs": [],
   "source": [
    "config = {\"state_size\": state_size,\n",
    "          \"action_size\": action_size,\n",
    "          \"parallel_agents\": num_agents,\n",
    "                    \n",
    "          # Actor and Critic model parameters\n",
    "          \"actor_layer_sizes\": [256, 128],\n",
    "          \"critic_layer_sizes\": [256, 128],\n",
    "          \n",
    "          # Agent's parameters\n",
    "          \"train_every\": 20,\n",
    "          \"train_steps\": 10,\n",
    "          \"buffer_size\": int(1e6),\n",
    "          \"batch_size\": 512,\n",
    "          \"lr_actor\": 1e-4,\n",
    "          \"lr_critic\": 1e-3,\n",
    "          \"weight_decay\": 0.0,\n",
    "          \"gamma\": 0.99,\n",
    "          \"tau\": 0.001,\n",
    "\n",
    "          # OUNoise parameters\n",
    "          \"noise_theta\": 0.15,\n",
    "          \"noise_sigma\": 0.2,\n",
    "          \"theta_decay\": 0.99,\n",
    "          \"sigma_decay\": 0.99,\n",
    "          \n",
    "          # N-Step Unrolling\n",
    "          \"unroll_steps_every\": 1,\n",
    "          \n",
    "          # Prioritized replay parameters\n",
    "          \"prioritized_replay\": False,\n",
    "          \"epsilon_priority\": 1e-7,\n",
    "          \"alpha_start\": 0.6,\n",
    "          \"alpha_decay\": 1.0,\n",
    "          \"alpha_end\": 1.0,\n",
    "          \"beta_start\": 0.4,\n",
    "          \"beta_decay\": 0.01,\n",
    "          \"beta_end\": 1.0\n",
    "         }\n",
    "\n",
    "# Override the global parameters used by the agent\n",
    "override_config(config)\n",
    "\n",
    "agent = Agent(state_size=state_size, action_size=action_size, random_seed=2,\n",
    "              prioritized_replay=config[\"prioritized_replay\"],\n",
    "              parallel_agents=num_agents, train_every=config[\"train_every\"], train_steps=config[\"train_steps\"])"
   ]
  },
  {
   "cell_type": "markdown",
   "metadata": {},
   "source": [
    "### 7. Train the DDPG Agent\n"
   ]
  },
  {
   "cell_type": "code",
   "execution_count": 9,
   "metadata": {},
   "outputs": [
    {
     "name": "stdout",
     "output_type": "stream",
     "text": [
      "{'action_size': 4,\n",
      " 'actor_layer_sizes': [256, 128],\n",
      " 'alpha_decay': 1.0,\n",
      " 'alpha_end': 1.0,\n",
      " 'alpha_start': 0.6,\n",
      " 'batch_size': 512,\n",
      " 'beta_decay': 0.01,\n",
      " 'beta_end': 1.0,\n",
      " 'beta_start': 0.4,\n",
      " 'buffer_size': 1000000,\n",
      " 'critic_layer_sizes': [256, 128],\n",
      " 'epsilon_priority': 1e-07,\n",
      " 'gamma': 0.99,\n",
      " 'lr_actor': 0.0001,\n",
      " 'lr_critic': 0.001,\n",
      " 'noise_sigma': 0.2,\n",
      " 'noise_theta': 0.15,\n",
      " 'parallel_agents': 20,\n",
      " 'prioritized_replay': False,\n",
      " 'sigma_decay': 0.99,\n",
      " 'state_size': 33,\n",
      " 'tau': 0.001,\n",
      " 'theta_decay': 0.99,\n",
      " 'train_every': 20,\n",
      " 'train_steps': 10,\n",
      " 'unroll_steps_every': 1,\n",
      " 'weight_decay': 0.0}\n",
      "Episode 100\tRuntime 2599.61\tAverage Score: 9.23\n",
      "Solved after Episode 173\tAverage Score: 30.099\n"
     ]
    },
    {
     "data": {
      "image/png": "[encoded data removed]",
      "text/plain": [
       "<Figure size 432x288 with 1 Axes>"
      ]
     },
     "metadata": {
      "needs_background": "light"
     },
     "output_type": "display_data"
    }
   ],
   "source": [
    "train_every = config[\"train_every\"]  # train the agent after every train_every steps\n",
    "train_steps = config[\"train_steps\"]  # train for train_steps after every train_every steps\n",
    "unroll_steps_every = config[\"unroll_steps_every\"]\n",
    "\n",
    "noise_theta = config[\"noise_theta\"]  # OUNoise theta\n",
    "noise_sigma = config[\"noise_sigma\"]  # OUNoise sigma\n",
    "theta_decay = config[\"theta_decay\"]  # 0.99\n",
    "sigma_decay = config[\"sigma_decay\"]  # 0.99\n",
    "\n",
    "gamma = config[\"gamma\"]              # discount factor\n",
    "\n",
    "# Prioritized replay parameters. Ignore\n",
    "if config[\"prioritized_replay\"]:\n",
    "    alpha_decay = config[\"alpha_decay\"]\n",
    "    alpha_end = config[\"alpha_end\"]\n",
    "    beta_decay = config[\"beta_decay\"]\n",
    "    beta_end = config[\"beta_end\"]\n",
    "\n",
    "# N-Step Unrolling implementation. Ignore\n",
    "discounts = gamma**np.arange(unroll_steps_every)[:, np.newaxis]\n",
    "experience = namedtuple(\"Experience\", field_names=[\"states\", \"actions\", \"rewards\", \"next_states\", \"dones\"])\n",
    "\n",
    "def unroll_steps(steps_deque):\n",
    "    states = steps_deque[0].states\n",
    "    actions = steps_deque[0].actions\n",
    "    rewards = np.array([experience.rewards for experience in steps_deque])\n",
    "    rewards = list(np.sum(rewards * discounts, axis=0))\n",
    "    next_states = steps_deque[-1].next_states\n",
    "    dones = steps_deque[-1].dones\n",
    "    return states, actions, rewards, next_states, dones\n",
    "    \n",
    "# DDPG training algorithm\n",
    "def ddpg(n_episodes=1000, print_every=100, solution_score=30, train=True):\n",
    "    scores_deque = deque(maxlen=print_every)\n",
    "    steps_deque = deque(maxlen=unroll_steps_every)\n",
    "    scores_array = []\n",
    "    theta = noise_theta\n",
    "    sigma = noise_sigma\n",
    "    store_only_steps_remaining = train_every\n",
    "    train_steps_remaining = 0\n",
    "    trained_steps = 0\n",
    "    steps = 0\n",
    "    trained_steps = 0\n",
    "    if config[\"prioritized_replay\"]:\n",
    "        alpha = config[\"alpha_start\"]\n",
    "        beta = config[\"beta_start\"]\n",
    "    else:\n",
    "        alpha = None\n",
    "        beta = None\n",
    "    \n",
    "    start_time = time.time()\n",
    "    print_every_start_time = start_time\n",
    "\n",
    "    for i_episode in range(1, n_episodes+1):\n",
    "        steps_deque.clear()\n",
    "        env_info = env.reset(train_mode=train)[brain_name]     # reset the environment VIDA: What's train_mode?   \n",
    "        states = env_info.vector_observations                  # get the current state (for each agent)\n",
    "        scores = np.zeros(num_agents)                          # initialize the score (for each agent)\n",
    "        agent.reset(theta, sigma)\n",
    "        while True:\n",
    "            actions = agent.act(states)\n",
    "            env_info = env.step(actions)[brain_name]           # send all actions to tne environment\n",
    "            next_states = env_info.vector_observations         # get next state (for each agent)\n",
    "            dones = env_info.local_done                        # see if episode finished\n",
    "            \n",
    "            rewards = env_info.rewards                         # get reward (for each agent)\n",
    "            scores += rewards                                  # update the score (for each agent)\n",
    "        \n",
    "            if unroll_steps_every == 1:\n",
    "                agent.step(states, actions, rewards, next_states, dones, alpha=alpha, beta=beta)\n",
    "            else:\n",
    "                e = experience(states, actions, rewards, next_states, dones)\n",
    "                steps_deque.append(e)\n",
    "                if len(steps_deque) == unroll_steps_every:\n",
    "                    unrolled_steps = unroll_steps(steps_deque)\n",
    "                    agent.step(*unrolled_steps, alpha=alpha, beta=beta)\n",
    "                            \n",
    "            states = next_states\n",
    "            if np.any(dones):                                  # exit loop if episode finished\n",
    "                break \n",
    "\n",
    "        scores_deque.append(np.mean(scores))\n",
    "        scores_array.append(np.mean(scores))\n",
    "        average_over_window = np.mean(scores_deque)\n",
    "        \n",
    "        theta *= theta_decay\n",
    "        sigma *= sigma_decay\n",
    "        \n",
    "        end_time = time.time()\n",
    "        runtime = end_time - start_time\n",
    "        start_time = end_time\n",
    "        print('\\rEpisode {}\\tRuntime {:.2f}\\tAverage Score: {:.2f}'.format(i_episode, runtime, average_over_window), end=\"\")\n",
    "        \n",
    "        if train and config[\"prioritized_replay\"] and i_episode >= 100:\n",
    "            alpha = min(alpha_end, (1 - alpha_decay * (1 - alpha)))\n",
    "            beta = min(beta_end, (1 - beta_decay * (1 - beta)))\n",
    "        \n",
    "        if i_episode % print_every == 0:\n",
    "            print_every_end_time = time.time()\n",
    "            runtime = print_every_end_time - print_every_start_time\n",
    "            print_every_start_time = print_every_end_time\n",
    "            print('\\rEpisode {}\\tRuntime {:.2f}\\tAverage Score: {:.2f}'.format(i_episode, runtime, average_over_window))\n",
    "        \n",
    "        if len(scores_deque) >= print_every:            \n",
    "            if average_over_window >= solution_score:\n",
    "                print('\\rSolved after Episode {}\\tAverage Score: {:.2f}'.format(i_episode, average_over_window))\n",
    "                torch.save(agent.actor_local.state_dict(), 'checkpoint_actor.pth')\n",
    "                torch.save(agent.critic_local.state_dict(), 'checkpoint_critic.pth')\n",
    "                break\n",
    "            \n",
    "    return scores_array\n",
    "\n",
    "pprint.pprint(config)\n",
    "scores = ddpg(train=True)\n",
    "\n",
    "fig = plt.figure()\n",
    "ax = fig.add_subplot(111)\n",
    "plt.plot(np.arange(1, len(scores)+1), scores)\n",
    "plt.ylabel('Score')\n",
    "plt.xlabel('Episode #')\n",
    "plt.show()"
   ]
  },
  {
   "cell_type": "markdown",
   "metadata": {},
   "source": [
    "### 8. Load the Trained Agent"
   ]
  },
  {
   "cell_type": "code",
   "execution_count": 10,
   "metadata": {},
   "outputs": [],
   "source": [
    "agent.actor_local.load_state_dict(torch.load('checkpoint_actor.pth'))\n",
    "agent.critic_local.load_state_dict(torch.load('checkpoint_critic.pth'))"
   ]
  },
  {
   "cell_type": "markdown",
   "metadata": {},
   "source": [
    "### 9. Watch the Trained Agent in Action\n",
    "\n",
    "Run the next cell to watch the trained agent's performance. A window should pop up that allows you to observe the agent(s) acting in the environment."
   ]
  },
  {
   "cell_type": "code",
   "execution_count": 11,
   "metadata": {},
   "outputs": [
    {
     "name": "stdout",
     "output_type": "stream",
     "text": [
      "Total score (averaged over agents) this episode: 37.42099916357547\n"
     ]
    }
   ],
   "source": [
    "env_info = env.reset(train_mode=False)[brain_name]     # reset the environment    \n",
    "states = env_info.vector_observations                  # get the current state (for each agent)\n",
    "scores = np.zeros(num_agents)                          # initialize the score (for each agent)\n",
    "while True:\n",
    "    actions = agent.act(states)\n",
    "    env_info = env.step(actions)[brain_name]           # send all actions to tne environment\n",
    "    next_states = env_info.vector_observations         # get next state (for each agent)\n",
    "    rewards = env_info.rewards                         # get reward (for each agent)\n",
    "    dones = env_info.local_done                        # see if episode finished\n",
    "    scores += env_info.rewards                         # update the score (for each agent)\n",
    "    states = next_states                               # roll over states to next time step\n",
    "    if np.any(dones):                                  # exit loop if episode finished\n",
    "        break\n",
    "print('Total score (averaged over agents) this episode: {}'.format(np.mean(scores)))"
   ]
  },
  {
   "cell_type": "markdown",
   "metadata": {},
   "source": [
    "When finished, you can close the environment by uncommenting the following line and running the cell."
   ]
  },
  {
   "cell_type": "code",
   "execution_count": 12,
   "metadata": {},
   "outputs": [],
   "source": [
    "# env.close()"
   ]
  }
 ],
 "metadata": {
  "kernelspec": {
   "display_name": "drlnd",
   "language": "python",
   "name": "drlnd"
  },
  "language_info": {
   "codemirror_mode": {
    "name": "ipython",
    "version": 3
   },
   "file_extension": ".py",
   "mimetype": "text/x-python",
   "name": "python",
   "nbconvert_exporter": "python",
   "pygments_lexer": "ipython3",
   "version": "3.6.13"
  }
 },
 "nbformat": 4,
 "nbformat_minor": 2
}
