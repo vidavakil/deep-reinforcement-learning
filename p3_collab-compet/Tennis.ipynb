{
 "cells": [
  {
   "cell_type": "markdown",
   "metadata": {},
   "source": [
    "# Collaboration and Competition\n",
    "\n",
    "---\n",
    "\n",
    "In this notebook, you will learn how to use the Unity ML-Agents environment for the third project of the [Deep Reinforcement Learning Nanodegree](https://www.udacity.com/course/deep-reinforcement-learning-nanodegree--nd893) program.\n",
    "\n",
    "### 1. Start the Environment\n",
    "\n",
    "We begin by importing the necessary packages.  If the code cell below returns an error, please revisit the project instructions to double-check that you have installed [Unity ML-Agents](https://github.com/Unity-Technologies/ml-agents/blob/master/docs/Installation.md) and [NumPy](http://www.numpy.org/)."
   ]
  },
  {
   "cell_type": "code",
   "execution_count": 1,
   "metadata": {},
   "outputs": [],
   "source": [
    "from unityagents import UnityEnvironment\n",
    "import numpy as np"
   ]
  },
  {
   "cell_type": "markdown",
   "metadata": {},
   "source": [
    "Next, we will start the environment!  **_Before running the code cell below_**, change the `file_name` parameter to match the location of the Unity environment that you downloaded.\n",
    "\n",
    "- **Mac**: `\"path/to/Tennis.app\"`\n",
    "- **Windows** (x86): `\"path/to/Tennis_Windows_x86/Tennis.exe\"`\n",
    "- **Windows** (x86_64): `\"path/to/Tennis_Windows_x86_64/Tennis.exe\"`\n",
    "- **Linux** (x86): `\"path/to/Tennis_Linux/Tennis.x86\"`\n",
    "- **Linux** (x86_64): `\"path/to/Tennis_Linux/Tennis.x86_64\"`\n",
    "- **Linux** (x86, headless): `\"path/to/Tennis_Linux_NoVis/Tennis.x86\"`\n",
    "- **Linux** (x86_64, headless): `\"path/to/Tennis_Linux_NoVis/Tennis.x86_64\"`\n",
    "\n",
    "For instance, if you are using a Mac, then you downloaded `Tennis.app`.  If this file is in the same folder as the notebook, then the line below should appear as follows:\n",
    "```\n",
    "env = UnityEnvironment(file_name=\"Tennis.app\")\n",
    "```"
   ]
  },
  {
   "cell_type": "code",
   "execution_count": 2,
   "metadata": {},
   "outputs": [
    {
     "name": "stderr",
     "output_type": "stream",
     "text": [
      "INFO:unityagents:\n",
      "'Academy' started successfully!\n",
      "Unity Academy name: Academy\n",
      "        Number of Brains: 1\n",
      "        Number of External Brains : 1\n",
      "        Lesson number : 0\n",
      "        Reset Parameters :\n",
      "\t\t\n",
      "Unity brain name: TennisBrain\n",
      "        Number of Visual Observations (per agent): 0\n",
      "        Vector Observation space type: continuous\n",
      "        Vector Observation space size (per agent): 8\n",
      "        Number of stacked Vector Observation: 3\n",
      "        Vector Action space type: continuous\n",
      "        Vector Action space size (per agent): 2\n",
      "        Vector Action descriptions: , \n"
     ]
    }
   ],
   "source": [
    "env = UnityEnvironment(file_name=\"Tennis.app\")"
   ]
  },
  {
   "cell_type": "markdown",
   "metadata": {},
   "source": [
    "Environments contain **_brains_** which are responsible for deciding the actions of their associated agents. Here we check for the first brain available, and set it as the default brain we will be controlling from Python."
   ]
  },
  {
   "cell_type": "code",
   "execution_count": 3,
   "metadata": {},
   "outputs": [],
   "source": [
    "# get the default brain\n",
    "brain_name = env.brain_names[0]\n",
    "brain = env.brains[brain_name]"
   ]
  },
  {
   "cell_type": "markdown",
   "metadata": {},
   "source": [
    "### 2. Examine the State and Action Spaces\n",
    "\n",
    "In this environment, two agents control rackets to bounce a ball over a net. If an agent hits the ball over the net, it receives a reward of +0.1.  If an agent lets a ball hit the ground or hits the ball out of bounds, it receives a reward of -0.01.  Thus, the goal of each agent is to keep the ball in play.\n",
    "\n",
    "The observation space consists of 8 variables corresponding to the position and velocity of the ball and racket. Two continuous actions are available, corresponding to movement toward (or away from) the net, and jumping. \n",
    "\n",
    "Run the code cell below to print some information about the environment."
   ]
  },
  {
   "cell_type": "code",
   "execution_count": 4,
   "metadata": {},
   "outputs": [
    {
     "name": "stdout",
     "output_type": "stream",
     "text": [
      "Number of agents: 2\n",
      "Size of each action: 2\n",
      "There are 2 agents. Each observes a state with length: 24\n",
      "The state for the first agent looks like: [ 0.          0.          0.          0.          0.          0.\n",
      "  0.          0.          0.          0.          0.          0.\n",
      "  0.          0.          0.          0.         -6.65278625 -1.5\n",
      " -0.          0.          6.83172083  6.         -0.          0.        ]\n"
     ]
    }
   ],
   "source": [
    "# reset the environment\n",
    "env_info = env.reset(train_mode=True)[brain_name]\n",
    "\n",
    "# number of agents \n",
    "num_agents = len(env_info.agents)\n",
    "print('Number of agents:', num_agents)\n",
    "\n",
    "# size of each action\n",
    "action_size = brain.vector_action_space_size\n",
    "print('Size of each action:', action_size)\n",
    "\n",
    "# examine the state space \n",
    "states = env_info.vector_observations\n",
    "state_size = states.shape[1]\n",
    "print('There are {} agents. Each observes a state with length: {}'.format(states.shape[0], state_size))\n",
    "print('The state for the first agent looks like:', states[0])"
   ]
  },
  {
   "cell_type": "markdown",
   "metadata": {},
   "source": [
    "### 3. Take Random Actions in the Environment\n",
    "\n",
    "In the next code cell, you will learn how to use the Python API to control the agents and receive feedback from the environment.\n",
    "\n",
    "To run the code in the cell, set try_random_actions to True. Once this cell is executed, you will watch the agents' performance, as they select actiona at random at each time step. A window should pop up that allows you to observe the agents, as they move through the environment.\n",
    "\n",
    "Of course, as part of the project, you'll have to change the code so that the agents are able to use their experiences to gradually choose better actions when interacting with the environment!"
   ]
  },
  {
   "cell_type": "code",
   "execution_count": 5,
   "metadata": {},
   "outputs": [],
   "source": [
    "try_random_actions = False\n",
    "\n",
    "if try_random_actions:\n",
    "    for i in range(1, 6):                                      # play game for 5 episodes\n",
    "        env_info = env.reset(train_mode=False)[brain_name]     # reset the environment    \n",
    "        states = env_info.vector_observations                  # get the current state (for each agent)\n",
    "        scores = np.zeros(num_agents)                          # initialize the score (for each agent)\n",
    "        while True:\n",
    "            actions = np.random.randn(num_agents, action_size) # select an action (for each agent)\n",
    "            actions = np.clip(actions, -1, 1)                  # all actions between -1 and 1\n",
    "            env_info = env.step(actions)[brain_name]           # send all actions to tne environment\n",
    "            next_states = env_info.vector_observations         # get next state (for each agent)\n",
    "            rewards = env_info.rewards                         # get reward (for each agent)\n",
    "            dones = env_info.local_done                        # see if episode finished\n",
    "            scores += env_info.rewards                         # update the score (for each agent)\n",
    "            states = next_states                               # roll over states to next time step\n",
    "            if np.any(dones):                                  # exit loop if episode finished\n",
    "                break\n",
    "        print('Score (max over agents) from episode {}: {}'.format(i, np.max(scores)))"
   ]
  },
  {
   "cell_type": "markdown",
   "metadata": {},
   "source": [
    "When finished, you can close the environment as shown below. Note however that once the environment is closed, you need to restart the notebook to be able to continue running the remaining cells. Once you restart the notebook, change try_random_actions in the above cell to False to skip running that cell and the subsequent one that closes the environment."
   ]
  },
  {
   "cell_type": "code",
   "execution_count": 6,
   "metadata": {},
   "outputs": [],
   "source": [
    "if try_random_actions:\n",
    "    env.close()"
   ]
  },
  {
   "cell_type": "markdown",
   "metadata": {},
   "source": [
    "### 4. It's Your Turn!\n",
    "\n",
    "Now it's your turn to train your own agent to solve the environment!  When training the environment, set `train_mode=True`, so that the line for resetting the environment looks like the following:\n",
    "```python\n",
    "env_info = env.reset(train_mode=True)[brain_name]\n",
    "```"
   ]
  },
  {
   "cell_type": "markdown",
   "metadata": {},
   "source": [
    "### 5. Import the Necessary Packages\n"
   ]
  },
  {
   "cell_type": "code",
   "execution_count": 7,
   "metadata": {},
   "outputs": [],
   "source": [
    "import torch\n",
    "import random\n",
    "import time\n",
    "import pprint\n",
    "import numpy as np\n",
    "from collections import deque, namedtuple\n",
    "import matplotlib.pyplot as plt\n",
    "%matplotlib inline\n",
    "\n",
    "from ddpg_agent import Agent, override_config"
   ]
  },
  {
   "cell_type": "markdown",
   "metadata": {},
   "source": [
    "### 6. Instantiate the Environment and a Multi-Agent DDPG"
   ]
  },
  {
   "cell_type": "code",
   "execution_count": 8,
   "metadata": {},
   "outputs": [],
   "source": [
    "config = {\"state_size\": state_size,\n",
    "          \"action_size\": action_size,\n",
    "          \"parallel_agents\": num_agents,\n",
    "                    \n",
    "          # Actor and Critic model parameters\n",
    "          \"actor_layer_sizes\": [256, 128],\n",
    "          \"critic_layer_sizes\": [256, 128],\n",
    "          \n",
    "          # Agent's parameters\n",
    "          \"train_every\": 20,\n",
    "          \"train_steps\": 10,\n",
    "          \"buffer_size\": int(1048576) , # power of two\n",
    "          \"batch_size\": 512,\n",
    "          \"lr_actor\": 1e-4,\n",
    "          \"lr_critic\": 1e-3,\n",
    "          \"weight_decay\": 0.00001,\n",
    "          \"gamma\": 0.99,\n",
    "          \"tau\": 0.001, \n",
    "          \"tau_increase\": 1.0001, # definitely use 1.0001 for prioritized replay. Otherwise, 1.001\n",
    "          \n",
    "          # Exploration using noise or random actions\n",
    "          \"add_noise\": True,           # If I turn this off, it looks like the agent learns overfits and plays a fixed game!\n",
    "          \"use_ounoise\": True,\n",
    "          \"random_action_period\": 2000, # If I turn off both sources of noise, the agent still learns (but without prioritized replay), but more slowly. Perhpas the replay buffer is the source of noise.\n",
    "          \"minimum_random_action_prob\": 0.01, # If I turn off both noise, the prioritized replay buffer better be off!\n",
    "\n",
    "          # OUNoise parameters\n",
    "          \"noise_theta\": 0.15,\n",
    "          \"noise_sigma\": 0.2,\n",
    "          \"theta_decay\": 0.99,\n",
    "          \"sigma_decay\": 0.99,\n",
    "          \n",
    "          # Prioritized replay parameters\n",
    "          \"prioritized_replay\": False,\n",
    "          \"epsilon_error\": 1e-7,\n",
    "          \"maximum_error\": 1e4,\n",
    "          \"alpha\": 0.6,\n",
    "          \"beta_start\": 0.4,\n",
    "          \"beta_decay\": 0.99,\n",
    "          \"beta_end\": 1.0\n",
    "         }\n",
    "\n",
    "# Override the global parameters used by the agent\n",
    "override_config(config)\n",
    "\n",
    "agent = Agent(state_size=state_size, action_size=action_size, random_seed=2,\n",
    "              prioritized_replay=config[\"prioritized_replay\"], use_ounoise=config[\"use_ounoise\"],\n",
    "              parallel_agents=num_agents, train_every=config[\"train_every\"], train_steps=config[\"train_steps\"])"
   ]
  },
  {
   "cell_type": "markdown",
   "metadata": {},
   "source": [
    "### 7. Train the DDPG Agent"
   ]
  },
  {
   "cell_type": "code",
   "execution_count": 9,
   "metadata": {
    "scrolled": false
   },
   "outputs": [
    {
     "name": "stdout",
     "output_type": "stream",
     "text": [
      "{'action_size': 2,\n",
      " 'actor_layer_sizes': [256, 128],\n",
      " 'add_noise': True,\n",
      " 'alpha': 0.6,\n",
      " 'batch_size': 512,\n",
      " 'beta_decay': 0.99,\n",
      " 'beta_end': 1.0,\n",
      " 'beta_start': 0.4,\n",
      " 'buffer_size': 1048576,\n",
      " 'critic_layer_sizes': [256, 128],\n",
      " 'epsilon_error': 1e-07,\n",
      " 'gamma': 0.99,\n",
      " 'lr_actor': 0.0001,\n",
      " 'lr_critic': 0.001,\n",
      " 'maximum_error': 10000.0,\n",
      " 'minimum_random_action_prob': 0.01,\n",
      " 'noise_sigma': 0.2,\n",
      " 'noise_theta': 0.15,\n",
      " 'parallel_agents': 2,\n",
      " 'prioritized_replay': False,\n",
      " 'random_action_period': 2000,\n",
      " 'sigma_decay': 0.99,\n",
      " 'state_size': 24,\n",
      " 'tau': 0.001,\n",
      " 'tau_increase': 1.0001,\n",
      " 'theta_decay': 0.99,\n",
      " 'train_every': 20,\n",
      " 'train_steps': 10,\n",
      " 'use_ounoise': True,\n",
      " 'weight_decay': 1e-05}\n",
      "Episode 100\tRuntime 19.33\tAverage Score: 0.01\n",
      "Episode 200\tRuntime 21.62\tAverage Score: 0.00\n",
      "Episode 300\tRuntime 22.21\tAverage Score: 0.00\n",
      "Episode 400\tRuntime 20.46\tAverage Score: 0.00\n",
      "Episode 500\tRuntime 22.22\tAverage Score: 0.00\n",
      "Episode 600\tRuntime 22.06\tAverage Score: 0.00\n",
      "Episode 700\tRuntime 23.93\tAverage Score: 0.00\n",
      "Episode 800\tRuntime 21.76\tAverage Score: 0.00\n",
      "Episode 900\tRuntime 21.48\tAverage Score: 0.00\n",
      "Episode 1000\tRuntime 23.46\tAverage Score: 0.00\n",
      "Episode 1100\tRuntime 22.61\tAverage Score: 0.00\n",
      "Episode 1200\tRuntime 21.62\tAverage Score: 0.00\n",
      "Episode 1300\tRuntime 36.14\tAverage Score: 0.04\n",
      "Episode 1400\tRuntime 23.85\tAverage Score: 0.00\n",
      "Episode 1500\tRuntime 23.76\tAverage Score: 0.01\n",
      "Episode 1600\tRuntime 25.74\tAverage Score: 0.01\n",
      "Episode 1700\tRuntime 24.25\tAverage Score: 0.01\n",
      "Episode 1800\tRuntime 26.33\tAverage Score: 0.02\n",
      "Episode 1900\tRuntime 43.75\tAverage Score: 0.08\n",
      "Episode 2000\tRuntime 59.50\tAverage Score: 0.12\n",
      "Episode 2100\tRuntime 50.41\tAverage Score: 0.07\n",
      "Episode 2200\tRuntime 215.79\tAverage Score: 0.38\n",
      "Solved after Episode 2208\tAverage Score: 0.522\n"
     ]
    },
    {
     "data": {
      "image/png": "[encoded data removed]",
      "text/plain": [
       "<Figure size 432x288 with 1 Axes>"
      ]
     },
     "metadata": {
      "needs_background": "light"
     },
     "output_type": "display_data"
    }
   ],
   "source": [
    "train_every = config[\"train_every\"]  # train the agent after every train_every time steps\n",
    "train_steps = config[\"train_steps\"]  # train for train_steps after every train_every time steps\n",
    "\n",
    "add_noise = config[\"add_noise\"]      \n",
    "noise_theta = config[\"noise_theta\"]  # OUNoise theta\n",
    "noise_sigma = config[\"noise_sigma\"]  # OUNoise sigma\n",
    "theta_decay = config[\"theta_decay\"]  # 0.99\n",
    "sigma_decay = config[\"sigma_decay\"]  # 0.99\n",
    "\n",
    "gamma = config[\"gamma\"]\n",
    "\n",
    "beta_start = config[\"beta_start\"]\n",
    "beta_decay = config[\"beta_decay\"]\n",
    "beta_end = config[\"beta_end\"]    \n",
    "\n",
    "# Increase tau\n",
    "# Add noisy actions that reduce in frequency during the first 1500 steps but never go to zero\n",
    "# When training the actor through the critic, and passing state and action to the critic, compute the\n",
    "# value of the situation assuming that only your action has changed (what the actor computes), but that\n",
    "# the other agent's actions have not changed\n",
    "\n",
    "def ddpg(n_episodes=10000, print_every=100, solution_score=0.5, train=True):\n",
    "    scores_deque = deque(maxlen=print_every)\n",
    "    scores_array = []\n",
    "    theta = noise_theta\n",
    "    sigma = noise_sigma\n",
    "    store_only_steps_remaining = train_every\n",
    "    train_steps_remaining = 0\n",
    "    trained_steps = 0\n",
    "    steps = 0\n",
    "    trained_steps = 0\n",
    "    beta = beta_start\n",
    "    \n",
    "    start_time = time.time()\n",
    "    print_every_start_time = start_time\n",
    "\n",
    "    for i_episode in range(1, n_episodes+1):\n",
    "        env_info = env.reset(train_mode=train)[brain_name]     # reset the environment VIDA: What's train_mode?   \n",
    "        states = env_info.vector_observations                  # get the current state (for each agent)\n",
    "        scores = np.zeros(num_agents)                          # initialize the score (for each agent)\n",
    "        agent.reset(theta, sigma)\n",
    "        theta *= theta_decay\n",
    "        sigma *= sigma_decay\n",
    "        while True:\n",
    "            actions = agent.act(states, add_noise=add_noise)\n",
    "            env_info = env.step(actions)[brain_name]           # send all actions to tne environment\n",
    "            next_states = env_info.vector_observations         # get next state (for each agent)\n",
    "            dones = env_info.local_done                        # see if episode finished\n",
    "            \n",
    "            rewards = env_info.rewards                         # get reward (for each agent)\n",
    "            scores += rewards                                  # update the score (for each agent)\n",
    "        \n",
    "            agent.step(states, actions, rewards, next_states, dones, beta=beta)\n",
    "                            \n",
    "            states = next_states\n",
    "            if np.any(dones):                                  # exit loop if episode finished\n",
    "                break \n",
    "\n",
    "        scores_deque.append(np.max(scores))\n",
    "        scores_array.append(np.max(scores))\n",
    "        average_over_window = np.mean(scores_deque)\n",
    "        \n",
    "        end_time = time.time()\n",
    "        runtime = end_time - start_time\n",
    "        start_time = end_time\n",
    "        print('\\rEpisode {}\\tRuntime {:.2f}\\tAverage Score: {:.2f}'.format(i_episode, runtime, average_over_window), end=\"\")\n",
    "        \n",
    "        if train and config[\"prioritized_replay\"] and i_episode >= 100:\n",
    "            beta = min(beta_end, (1 - beta_decay * (1 - beta)))\n",
    "        \n",
    "        if i_episode % print_every == 0:\n",
    "            print_every_end_time = time.time()\n",
    "            runtime = print_every_end_time - print_every_start_time\n",
    "            print_every_start_time = print_every_end_time\n",
    "            print('\\rEpisode {}\\tRuntime {:.2f}\\tAverage Score: {:.2f}'.format(i_episode, runtime, average_over_window))\n",
    "        \n",
    "        if len(scores_deque) >= print_every:            \n",
    "            if average_over_window >= solution_score:\n",
    "                print('\\rSolved after Episode {}\\tAverage Score: {:.2f}'.format(i_episode, average_over_window))\n",
    "                torch.save(agent.actor_local.state_dict(), 'checkpoint_actor.pth')\n",
    "                torch.save(agent.critic_local.state_dict(), 'checkpoint_critic.pth')\n",
    "                break\n",
    "            \n",
    "    return scores_array\n",
    "\n",
    "pprint.pprint(config)\n",
    "scores = ddpg(train=True)\n",
    "\n",
    "fig = plt.figure()\n",
    "ax = fig.add_subplot(111)\n",
    "plt.plot(np.arange(1, len(scores)+1), scores)\n",
    "plt.ylabel('Score')\n",
    "plt.xlabel('Episode #')\n",
    "plt.show()"
   ]
  },
  {
   "cell_type": "markdown",
   "metadata": {},
   "source": [
    "### 8. Load the Trained Agent"
   ]
  },
  {
   "cell_type": "code",
   "execution_count": 10,
   "metadata": {},
   "outputs": [],
   "source": [
    "agent.actor_local.load_state_dict(torch.load('checkpoint_actor.pth'))\n",
    "agent.critic_local.load_state_dict(torch.load('checkpoint_critic.pth'))"
   ]
  },
  {
   "cell_type": "markdown",
   "metadata": {},
   "source": [
    "### 9. Watch the Trained Agent in Action\n",
    "\n",
    "Run the next cell to watch the trained agent's performance. A window should pop up that allows you to observe the agent(s) acting in the environment."
   ]
  },
  {
   "cell_type": "code",
   "execution_count": 11,
   "metadata": {},
   "outputs": [
    {
     "name": "stdout",
     "output_type": "stream",
     "text": [
      "Score (max over agents) from episode 1: 2.600000038743019\n",
      "Score (max over agents) from episode 2: 1.3000000193715096\n",
      "Score (max over agents) from episode 3: 2.600000038743019\n",
      "Score (max over agents) from episode 4: 2.7000000402331352\n",
      "Score (max over agents) from episode 5: 2.600000038743019\n"
     ]
    }
   ],
   "source": [
    "for i in range(1, 6):                                      # play game for 5 episodes\n",
    "    env_info = env.reset(train_mode=False)[brain_name]     # reset the environment    \n",
    "    states = env_info.vector_observations                  # get the current state (for each agent)\n",
    "    scores = np.zeros(num_agents)                          # initialize the score (for each agent)\n",
    "    while True:\n",
    "        actions = agent.act(states, add_noise=False)       # select an action (for each agent)\n",
    "        actions = np.clip(actions, -1, 1)                  # all actions between -1 and 1\n",
    "        env_info = env.step(actions)[brain_name]           # send all actions to tne environment\n",
    "        next_states = env_info.vector_observations         # get next state (for each agent)\n",
    "        rewards = env_info.rewards                         # get reward (for each agent)\n",
    "        dones = env_info.local_done                        # see if episode finished\n",
    "        scores += env_info.rewards                         # update the score (for each agent)\n",
    "        states = next_states                               # roll over states to next time step\n",
    "        if np.any(dones):                                  # exit loop if episode finished\n",
    "            break\n",
    "    print('Score (max over agents) from episode {}: {}'.format(i, np.max(scores)))"
   ]
  },
  {
   "cell_type": "markdown",
   "metadata": {},
   "source": [
    "When finished, you can close the environment by uncommenting the following line and running the cell."
   ]
  },
  {
   "cell_type": "code",
   "execution_count": 12,
   "metadata": {},
   "outputs": [],
   "source": [
    "# env.close()"
   ]
  }
 ],
 "metadata": {
  "kernelspec": {
   "display_name": "Python 3",
   "language": "python",
   "name": "python3"
  },
  "language_info": {
   "codemirror_mode": {
    "name": "ipython",
    "version": 3
   },
   "file_extension": ".py",
   "mimetype": "text/x-python",
   "name": "python",
   "nbconvert_exporter": "python",
   "pygments_lexer": "ipython3",
   "version": "3.6.13"
  }
 },
 "nbformat": 4,
 "nbformat_minor": 2
}
